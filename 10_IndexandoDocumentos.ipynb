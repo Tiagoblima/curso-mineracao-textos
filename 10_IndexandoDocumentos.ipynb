{
  "nbformat": 4,
  "nbformat_minor": 0,
  "metadata": {
    "colab": {
      "name": "10_IndexandoDocumentos.ipynb",
      "provenance": [],
      "toc_visible": true,
      "authorship_tag": "ABX9TyOUq4oZaljTjBF7lZoRJaeW",
      "include_colab_link": true
    },
    "kernelspec": {
      "name": "python3",
      "display_name": "Python 3"
    }
  },
  "cells": [
    {
      "cell_type": "markdown",
      "metadata": {
        "id": "view-in-github",
        "colab_type": "text"
      },
      "source": [
        "<a href=\"https://colab.research.google.com/github/ufrpe-ensino/curso-mineracao-textos/blob/master/10_IndexandoDocumentos.ipynb\" target=\"_parent\"><img src=\"https://colab.research.google.com/assets/colab-badge.svg\" alt=\"Open In Colab\"/></a>"
      ]
    },
    {
      "cell_type": "markdown",
      "metadata": {
        "id": "Ox6bCFETcFIR",
        "colab_type": "text"
      },
      "source": [
        "# Indexando diferentes tipos de documentos\n",
        "\n",
        "Tem uma coleção de documentos? Documentos do Word, arquivos HTML, PDFs, PDFs baseados em imagens e mais alguma coisa? Não se preocupe, o Apache [Tika](https://tika.apache.org) tem tudo para você."
      ]
    },
    {
      "cell_type": "markdown",
      "metadata": {
        "id": "mFVDVp1xfMF-",
        "colab_type": "text"
      },
      "source": [
        "# Extraindo Texto de Documentos"
      ]
    },
    {
      "cell_type": "markdown",
      "metadata": {
        "id": "BQY-bt51cYi3",
        "colab_type": "text"
      },
      "source": [
        "## Instalação\n",
        "O ideal é ter um servidor dedicado ao serviço de OCR. No nosso caso, utilizaremos o próprio colab como servidor. Primeiro precisamos instalar o wrapper python para o Tika"
      ]
    },
    {
      "cell_type": "code",
      "metadata": {
        "id": "FtC8_22ib4Yb",
        "colab_type": "code",
        "colab": {}
      },
      "source": [
        "!apt-get update\n",
        "!apt-get install tesseract-ocr\n",
        "!apt-get install tesseract-ocr-por"
      ],
      "execution_count": null,
      "outputs": []
    },
    {
      "cell_type": "code",
      "metadata": {
        "id": "aGa9hU4QcpAJ",
        "colab_type": "code",
        "colab": {}
      },
      "source": [
        "!pip install tika"
      ],
      "execution_count": null,
      "outputs": []
    },
    {
      "cell_type": "markdown",
      "metadata": {
        "id": "xAqrtcnndLv5",
        "colab_type": "text"
      },
      "source": [
        "## Baixando alguns documentos\n",
        "\n",
        "* pdf: https://data.ct.gov/download/fxjv-82m6/application/pdf\n",
        "* doc: https://pasteur.epa.gov/uploads/10.23719/1500001/LDPE_nanoclay_Highlights_.docx\n",
        "* png for OCR: https://upload.wikimedia.org/wikipedia/commons/5/5f/Dr._Jekyll_and_Mr._Hyde_Text.jpg\n"
      ]
    },
    {
      "cell_type": "code",
      "metadata": {
        "id": "WP2dEQr9dWpQ",
        "colab_type": "code",
        "colab": {}
      },
      "source": [
        "!curl -O https://upload.wikimedia.org/wikipedia/commons/5/5f/Dr._Jekyll_and_Mr._Hyde_Text.jpg"
      ],
      "execution_count": null,
      "outputs": []
    },
    {
      "cell_type": "markdown",
      "metadata": {
        "id": "1GY5UqvzdUrZ",
        "colab_type": "text"
      },
      "source": [
        "![](https://upload.wikimedia.org/wikipedia/commons/5/5f/Dr._Jekyll_and_Mr._Hyde_Text.jpg)"
      ]
    },
    {
      "cell_type": "markdown",
      "metadata": {
        "id": "FAabgABmdqIv",
        "colab_type": "text"
      },
      "source": [
        "## Testando o tessract via linha de comando"
      ]
    },
    {
      "cell_type": "code",
      "metadata": {
        "id": "pn72xI7EdmzS",
        "colab_type": "code",
        "colab": {}
      },
      "source": [
        "!tesseract Dr._Jekyll_and_Mr._Hyde_Text.jpg stdout"
      ],
      "execution_count": null,
      "outputs": []
    },
    {
      "cell_type": "markdown",
      "metadata": {
        "id": "d9BCXKUGdmRH",
        "colab_type": "text"
      },
      "source": [
        "## Usando o Tika\n",
        "### Inicializando o serviço"
      ]
    },
    {
      "cell_type": "code",
      "metadata": {
        "id": "1XI7eOJtdHg9",
        "colab_type": "code",
        "colab": {}
      },
      "source": [
        "import tika\n",
        "import requests\n",
        "from tika import parser\n",
        "\n",
        "# Start running the tika service\n",
        "tika.initVM()"
      ],
      "execution_count": null,
      "outputs": []
    },
    {
      "cell_type": "markdown",
      "metadata": {
        "id": "_qkc_FZcdKvi",
        "colab_type": "text"
      },
      "source": [
        "## Parsing!\n",
        "Existem duas maneiras de fazer isso!\n",
        "\n",
        "**Direto da web**\n",
        "\n",
        "```python\n",
        "response = requests.get(...)\n",
        "results = parser.from_buffer(response.content)\n",
        "```\n",
        "\n",
        "**De um arquivo local**\n",
        "\n",
        "```python\n",
        "results = parser.from_file(filename)\n",
        "```\n",
        "\n",
        "Observe que se você deseja fazer OCR em outro idioma, é necessário mudar um pouco as coisas. O que está abaixo para grego. Veja o que seu tesseract suporta com `tesseract --list-langs`\n",
        "\n",
        "```python\n",
        "headers = {\n",
        "    \"X-Tika-OCRLanguage\": \"por\"\n",
        "}\n",
        "results = parser.from_buffer(response.content, headers=headers)\n",
        "```"
      ]
    },
    {
      "cell_type": "code",
      "metadata": {
        "id": "uhwp5d_6eURI",
        "colab_type": "code",
        "colab": {}
      },
      "source": [
        "!tesseract --list-langs"
      ],
      "execution_count": null,
      "outputs": []
    },
    {
      "cell_type": "markdown",
      "metadata": {
        "id": "FNEmsQWteah8",
        "colab_type": "text"
      },
      "source": [
        "## Exemplo: PDF"
      ]
    },
    {
      "cell_type": "code",
      "metadata": {
        "id": "pJbHsTBIeWU6",
        "colab_type": "code",
        "colab": {}
      },
      "source": [
        "response = requests.get('https://data.ct.gov/download/fxjv-82m6/application/pdf')\n",
        "results = parser.from_buffer(response)"
      ],
      "execution_count": null,
      "outputs": []
    },
    {
      "cell_type": "code",
      "metadata": {
        "id": "8o7p6zTHed0g",
        "colab_type": "code",
        "colab": {}
      },
      "source": [
        "results.keys()"
      ],
      "execution_count": null,
      "outputs": []
    },
    {
      "cell_type": "code",
      "metadata": {
        "id": "9qlHPKmHegIB",
        "colab_type": "code",
        "colab": {}
      },
      "source": [
        "results['status']"
      ],
      "execution_count": null,
      "outputs": []
    },
    {
      "cell_type": "code",
      "metadata": {
        "id": "93dZKPVIeiMx",
        "colab_type": "code",
        "colab": {}
      },
      "source": [
        "# Only showing the first 1000 chars\n",
        "results['content'][:1000]"
      ],
      "execution_count": null,
      "outputs": []
    },
    {
      "cell_type": "code",
      "metadata": {
        "id": "_X8rcz8nekci",
        "colab_type": "code",
        "colab": {}
      },
      "source": [
        "# formatando quebras de linha\n",
        "print(results['content'][:1000].strip())"
      ],
      "execution_count": null,
      "outputs": []
    },
    {
      "cell_type": "markdown",
      "metadata": {
        "id": "eSLKSqDve1rR",
        "colab_type": "text"
      },
      "source": [
        "## Exemplo: DOC"
      ]
    },
    {
      "cell_type": "code",
      "metadata": {
        "id": "0AEzx-zaesGN",
        "colab_type": "code",
        "colab": {}
      },
      "source": [
        "response = requests.get('https://pasteur.epa.gov/uploads/10.23719/1500001/LDPE_nanoclay_Highlights_.docx')\n",
        "results = parser.from_buffer(response)\n",
        "print(results['content'].strip())"
      ],
      "execution_count": null,
      "outputs": []
    },
    {
      "cell_type": "markdown",
      "metadata": {
        "id": "ZeLdSDsge7-X",
        "colab_type": "text"
      },
      "source": [
        "## Exemplo: Imagem (OCR)"
      ]
    },
    {
      "cell_type": "code",
      "metadata": {
        "id": "Zmz2l7NTe48g",
        "colab_type": "code",
        "colab": {}
      },
      "source": [
        "response = requests.get('https://upload.wikimedia.org/wikipedia/commons/5/5f/Dr._Jekyll_and_Mr._Hyde_Text.jpg')\n",
        "results = parser.from_buffer(response)\n",
        "results['status']"
      ],
      "execution_count": null,
      "outputs": []
    },
    {
      "cell_type": "code",
      "metadata": {
        "id": "H2YZWUbNe_oP",
        "colab_type": "code",
        "colab": {}
      },
      "source": [
        "print(results['content'].strip())"
      ],
      "execution_count": null,
      "outputs": []
    },
    {
      "cell_type": "markdown",
      "metadata": {
        "id": "j3LUquX0fbZ1",
        "colab_type": "text"
      },
      "source": [
        "## Imagem em Português\n",
        "![alt text](https://upload.wikimedia.org/wikipedia/commons/thumb/9/9c/Livro_de_uma_sogra.djvu/page45-552px-Livro_de_uma_sogra.djvu.jpg)"
      ]
    },
    {
      "cell_type": "code",
      "metadata": {
        "id": "_nx5iTKrfB_i",
        "colab_type": "code",
        "colab": {}
      },
      "source": [
        "response = requests.get('https://upload.wikimedia.org/wikipedia/commons/thumb/9/9c/Livro_de_uma_sogra.djvu/page45-552px-Livro_de_uma_sogra.djvu.jpg')\n",
        "results = parser.from_buffer(response)\n",
        "print(results['content'].strip())"
      ],
      "execution_count": null,
      "outputs": []
    },
    {
      "cell_type": "markdown",
      "metadata": {
        "id": "xTDcwpBmgA4s",
        "colab_type": "text"
      },
      "source": [
        "**O que deu errado?**\n",
        "\n",
        "Ajustar o idioma do tesseract!"
      ]
    },
    {
      "cell_type": "code",
      "metadata": {
        "id": "9V56V5BGfyhK",
        "colab_type": "code",
        "colab": {}
      },
      "source": [
        "headers = {\n",
        "    \"X-Tika-OCRLanguage\": \"por\"\n",
        "}\n",
        "response = requests.get('https://upload.wikimedia.org/wikipedia/commons/thumb/9/9c/Livro_de_uma_sogra.djvu/page45-552px-Livro_de_uma_sogra.djvu.jpg')\n",
        "results = parser.from_buffer(response, headers=headers)\n",
        "print(results['content'].strip())"
      ],
      "execution_count": null,
      "outputs": []
    },
    {
      "cell_type": "markdown",
      "metadata": {
        "id": "-ItP656-hEd5",
        "colab_type": "text"
      },
      "source": [
        "# Exercício\n",
        "\n",
        "Baixe o conteúdo de alguns livros disponíveis no portal do MEC:\n",
        "http://machado.mec.gov.br/obra-completa-lista"
      ]
    },
    {
      "cell_type": "code",
      "metadata": {
        "id": "DMyE_IXUh-TY",
        "colab_type": "code",
        "colab": {}
      },
      "source": [
        "docs = {'titulo':\n",
        "          ['Suplicio de uma mulher',\n",
        "          'Iracema',\n",
        "          'Dom Casmurro'],\n",
        "        'url':\n",
        "          ['http://machado.mec.gov.br/obra-completa-lista/item/download/122_460dea0cb1063340b4daeb1724cd5525',\n",
        "          'http://machado.mec.gov.br/obra-completa-lista/item/download/102_172f52621103b604c77a48daed4e3407',\n",
        "          'http://machado.mec.gov.br/obra-completa-lista/item/download/13_7101e1a36cda79f6c97341757dcc4d04']\n",
        "}"
      ],
      "execution_count": null,
      "outputs": []
    },
    {
      "cell_type": "markdown",
      "metadata": {
        "id": "1X97d_YjjKvd",
        "colab_type": "text"
      },
      "source": [
        "## Questão 1\n",
        "Armazene os dados acima em um pandas DataFrame, e processe as urls de cada documento utilizando o Tika. Armazene os textos extraídos em uma coluna chamada `text`."
      ]
    },
    {
      "cell_type": "code",
      "metadata": {
        "id": "OB2nROYniRMW",
        "colab_type": "code",
        "colab": {}
      },
      "source": [
        "import pandas as pd\n",
        "df = pd.DataFrame(data=docs)\n",
        "\n",
        "texts = []\n",
        "for i, doc in df.iterrows():\n",
        "  response = requests.get(doc.url)\n",
        "  results = parser.from_buffer(response)\n",
        "  texts.append(results['content'].strip())\n",
        "df['text'] = texts\n",
        "df"
      ],
      "execution_count": null,
      "outputs": []
    },
    {
      "cell_type": "markdown",
      "metadata": {
        "id": "mnbDQqa7jfLz",
        "colab_type": "text"
      },
      "source": [
        "## Questão 2\n",
        "Utilize a biblioteca hashedindex para criar um índice invertido dos documentos analisados.\n",
        "\n",
        "Dica:\n",
        "\n",
        "\n",
        "*   A função `textparser.word_tokenize` retorna uma Tupla, adicione o primeiro elemento dela ao indice (e.g., `term[0]`)\n",
        "*   Otimize o índice setando o parâmetro `min_length=4` da função `textparser.word_tokenize`\n",
        "\n"
      ]
    },
    {
      "cell_type": "code",
      "metadata": {
        "id": "hLaBVrGTi3DQ",
        "colab_type": "code",
        "colab": {}
      },
      "source": [
        "!pip install hashedindex\n",
        "import hashedindex\n",
        "\n",
        "index = hashedindex.HashedIndex()\n",
        "for i, doc in df.iterrows():\n",
        "  for term in hashedindex.textparser.word_tokenize(doc.text, min_length=4):\n",
        "    index.add_term_occurrence(term[0], doc.titulo)"
      ],
      "execution_count": null,
      "outputs": []
    },
    {
      "cell_type": "markdown",
      "metadata": {
        "id": "Ovmzy0XXoqt0",
        "colab_type": "text"
      },
      "source": [
        "Quantos termos tem o seu índice?"
      ]
    },
    {
      "cell_type": "code",
      "metadata": {
        "id": "jtTnZs46npzR",
        "colab_type": "code",
        "colab": {}
      },
      "source": [
        "index"
      ],
      "execution_count": null,
      "outputs": []
    },
    {
      "cell_type": "markdown",
      "metadata": {
        "id": "LEeicYlDoupW",
        "colab_type": "text"
      },
      "source": [
        "Quais são os termos?"
      ]
    },
    {
      "cell_type": "code",
      "metadata": {
        "id": "Wwf36v9wlqVU",
        "colab_type": "code",
        "colab": {}
      },
      "source": [
        "index.items()"
      ],
      "execution_count": null,
      "outputs": []
    },
    {
      "cell_type": "markdown",
      "metadata": {
        "id": "EhbfmWzhozPs",
        "colab_type": "text"
      },
      "source": [
        "Faça uma pesquisa por personagens do livro 'Dom Casmurro', por exemplo: 'capitu', 'bento', etc."
      ]
    },
    {
      "cell_type": "code",
      "metadata": {
        "id": "iSIwA4qvkbQL",
        "colab_type": "code",
        "colab": {}
      },
      "source": [
        "index.get_documents('bento')"
      ],
      "execution_count": null,
      "outputs": []
    }
  ]
}