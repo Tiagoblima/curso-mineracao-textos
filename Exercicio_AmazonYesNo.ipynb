{
 "metadata": {
  "language_info": {
   "codemirror_mode": {
    "name": "ipython",
    "version": 3
   },
   "file_extension": ".py",
   "mimetype": "text/x-python",
   "name": "python",
   "nbconvert_exporter": "python",
   "pygments_lexer": "ipython3",
   "version": "3.7.1-final"
  },
  "orig_nbformat": 2,
  "kernelspec": {
   "name": "python37164bitbaseconda979ab1df2fea40b084662581683297fc",
   "display_name": "Python 3.7.1 64-bit ('base': conda)"
  }
 },
 "nbformat": 4,
 "nbformat_minor": 2,
 "cells": [
  {
   "cell_type": "markdown",
   "metadata": {},
   "source": [
    "# Exercício\n",
    "O principal objetivo desta atividade é classificar perguntas em um ambiente de e-commerce. Dada uma pergunta, como por exemplo\n",
    "\n",
    "> Can you use this unit with GEL shaving cans?\n",
    "\n",
    "O modelo deve identificar o tipo da pergunta (`answerType`): **YES** ou **NO**\n",
    "\n",
    "### Referência:\n",
    "\n",
    "Este dataset é uma versão reduzida do conjunto de dados da Amazon, disponível em: http://jmcauley.ucsd.edu/data/amazon/qa/\n",
    "\n",
    "> Modeling ambiguity, subjectivity, and diverging viewpoints in opinion question answering systems. Mengting Wan, Julian McAuley. International Conference on Data Mining (ICDM), 2016pdf\n",
    "\n",
    "> Addressing complex and subjective product-related queries with customer reviews. Julian McAuley, Alex Yang. World Wide Web (WWW), 2016"
   ]
  },
  {
   "cell_type": "markdown",
   "metadata": {},
   "source": [
    "## Dataset\n",
    "\n",
    "Os arquivos estão no formato CSV, e podem ser lidos com o pandas:\n",
    "\n",
    "``` \n",
    "import pandas as pd\n",
    "df = pd.read_csv('data/amazon-qa/train.csv', index_col='ID')\n",
    "```\n",
    "\n",
    "### File descriptions\n",
    "\n",
    "* train.csv - o conjunto de treinamento\n",
    "* test.csv - o conjunto de testes\n",
    "* sampleSubmission.csv - um exemplo de arquivo de submissão (formato do Kaggle)\n",
    "\n",
    "### Data fields\n",
    "\n",
    "* ID - identificador unico da questão\n",
    "* question - o texto da questão (string)\n",
    "* questionType - o tipo da questão (1=YES/NO , 0=OUTRA)"
   ]
  },
  {
   "cell_type": "markdown",
   "metadata": {},
   "source": [
    "## Análise exploratória\n",
    "Verifique a distribuição das classes, tamanho médio dos textos, e verifique se existem tópicos latentes que podem ser identificados"
   ]
  },
  {
   "cell_type": "code",
   "execution_count": null,
   "metadata": {},
   "outputs": [],
   "source": []
  },
  {
   "cell_type": "markdown",
   "metadata": {},
   "source": [
    "## Classificador "
   ]
  },
  {
   "cell_type": "code",
   "execution_count": null,
   "metadata": {},
   "outputs": [],
   "source": []
  },
  {
   "cell_type": "markdown",
   "metadata": {},
   "source": [
    "## Salve o classificador"
   ]
  },
  {
   "cell_type": "code",
   "execution_count": null,
   "metadata": {},
   "outputs": [],
   "source": []
  }
 ]
}